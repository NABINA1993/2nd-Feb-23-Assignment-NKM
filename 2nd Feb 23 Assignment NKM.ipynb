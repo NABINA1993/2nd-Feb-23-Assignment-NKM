{
 "cells": [
  {
   "cell_type": "code",
   "execution_count": null,
   "id": "897947e9",
   "metadata": {},
   "outputs": [],
   "source": [
    "#Q1.  Explain with an example each when to use a for loop and a while loop.\n",
    "ans=\"\"\"\"for loop is used for iterating over a sequence(that is either a list,a tuple ,a dictionary,a set,or a string.\n",
    "for keyword in other programming languages,and works more like an iterator method as found in opp.)\"\" "
   ]
  },
  {
   "cell_type": "code",
   "execution_count": 1,
   "id": "ef093cca",
   "metadata": {},
   "outputs": [
    {
     "name": "stdout",
     "output_type": "stream",
     "text": [
      "apple\n",
      "banana\n",
      "cherry\n"
     ]
    }
   ],
   "source": [
    "#Example of for loop\n",
    "fruits=[\"apple\",\"banana\",\"cherry\"]\n",
    "for x in fruits:\n",
    "    print(x)"
   ]
  },
  {
   "cell_type": "code",
   "execution_count": 2,
   "id": "6bfbf200",
   "metadata": {},
   "outputs": [
    {
     "name": "stdout",
     "output_type": "stream",
     "text": [
      "2\n",
      "3\n",
      "4\n",
      "5\n"
     ]
    }
   ],
   "source": [
    "#while loop\n",
    "\"\"\"\"python while loop is used to run a block code until a certain condition is mat.\"\"\"\n",
    "#example\n",
    "i=2\n",
    "n=5\n",
    "while i<=n:\n",
    "    print(i)\n",
    "    i=i+1"
   ]
  },
  {
   "cell_type": "code",
   "execution_count": 4,
   "id": "9912d65f",
   "metadata": {},
   "outputs": [
    {
     "name": "stdout",
     "output_type": "stream",
     "text": [
      "Enter number10\n",
      "Sum of first  10 numbers is:  210\n",
      "product of  10 numbers is:  2100\n"
     ]
    }
   ],
   "source": [
    "#Q2.  Write a python program to print the sum and product of the first 10 natural numbers using for and while loop.\n",
    "\n",
    "n = int(input(\"Enter number\"))\n",
    "sum = 0\n",
    "for num in range(1, n + 11, 1):\n",
    "    sum = sum + num\n",
    "print(\"Sum of first \", n, \"numbers is: \", sum)\n",
    "product= sum * n\n",
    "print(\"product of \", n, \"numbers is: \", product)   "
   ]
  },
  {
   "cell_type": "code",
   "execution_count": 4,
   "id": "a44c52f5",
   "metadata": {},
   "outputs": [],
   "source": [
    "#Q3. Create a python program to compute the electricity bill for a household.\n",
    "\n",
    "\"sir ji please solve it in a class\""
   ]
  },
  {
   "cell_type": "code",
   "execution_count": 3,
   "id": "7fed7e0b",
   "metadata": {},
   "outputs": [
    {
     "name": "stdout",
     "output_type": "stream",
     "text": [
      "enter your no.10\n",
      "[1, 100, 16, 25, 64, 100]\n"
     ]
    }
   ],
   "source": [
    "#Q4. Create a list of numbers from 1 to 100. Use for loop and while loop to calculate the cube of each number and if the cube of that number is divisible by 4 or 5 then append that number in a list and print \n",
    "#that list.\n",
    "m=int(input(\"enter your no.\"))\n",
    "l=[1,100]\n",
    "for i in range(1,m+1):\n",
    "    if i%4==0 or i%5==0:\n",
    "        l.append(i**2)\n",
    "print(l)"
   ]
  },
  {
   "cell_type": "code",
   "execution_count": 11,
   "id": "b36140b4",
   "metadata": {},
   "outputs": [
    {
     "name": "stdout",
     "output_type": "stream",
     "text": [
      "Number of vowels in the given string is:  11\n"
     ]
    }
   ],
   "source": [
    "#Q5.  Write a program to filter count vowels in the below-given string.string = \"I want to become a data scientist\".\n",
    "\n",
    "l= \"I want to become a data scientist\"\n",
    "count = 0\n",
    "vowels = [\"a\", \"e\", \"i\", \"o\", \"u\"]\n",
    "for i in range(len(l)):\n",
    "    if l[i] in vowels:\n",
    "        count += 1\n",
    "print(\"Number of vowels in the given string is: \", count)"
   ]
  },
  {
   "cell_type": "code",
   "execution_count": null,
   "id": "22b24e44",
   "metadata": {},
   "outputs": [],
   "source": []
  }
 ],
 "metadata": {
  "kernelspec": {
   "display_name": "Python 3 (ipykernel)",
   "language": "python",
   "name": "python3"
  },
  "language_info": {
   "codemirror_mode": {
    "name": "ipython",
    "version": 3
   },
   "file_extension": ".py",
   "mimetype": "text/x-python",
   "name": "python",
   "nbconvert_exporter": "python",
   "pygments_lexer": "ipython3",
   "version": "3.10.5"
  }
 },
 "nbformat": 4,
 "nbformat_minor": 5
}
